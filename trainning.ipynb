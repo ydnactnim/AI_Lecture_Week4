{
 "cells": [
  {
   "cell_type": "code",
   "execution_count": null,
   "metadata": {},
   "outputs": [],
   "source": [
    "# Import necessary libraries\n",
    "import pandas as pd\n",
    "import matplotlib.pyplot as plt\n",
    "import seaborn as sns\n",
    "from sklearn.model_selection import train_test_split\n",
    "from sklearn.tree import DecisionTreeClassifier\n",
    "from sklearn.metrics import accuracy_score, classification_report"
   ]
  },
  {
   "cell_type": "code",
   "execution_count": null,
   "metadata": {},
   "outputs": [],
   "source": [
    "# Step 1: Read Data\n",
    "file_path = '/mnt/data/male_female.csv'  # Adjust the path as necessary\n",
    "data = pd.read_csv(file_path)"
   ]
  },
  {
   "cell_type": "code",
   "execution_count": null,
   "metadata": {},
   "outputs": [],
   "source": [
    "# Step 2: Data Visualization\n",
    "# Scatter plot between Height, Weight, FeetSize and Sex\n",
    "fig, axes = plt.subplots(1, 3, figsize=(15, 5))\n",
    "\n",
    "# Height vs Sex\n",
    "sns.scatterplot(x='Height', y='Sex', data=data, ax=axes[0], hue='Sex', palette='Set1')\n",
    "axes[0].set_title('Height vs Sex')\n",
    "\n",
    "# Weight vs Sex\n",
    "sns.scatterplot(x='Weight', y='Sex', data=data, ax=axes[1], hue='Sex', palette='Set1')\n",
    "axes[1].set_title('Weight vs Sex')\n",
    "\n",
    "# FeetSize vs Sex\n",
    "sns.scatterplot(x='FeetSize', y='Sex', data=data, ax=axes[2], hue='Sex', palette='Set1')\n",
    "axes[2].set_title('FeetSize vs Sex')\n",
    "\n",
    "plt.tight_layout()\n",
    "plt.show()"
   ]
  },
  {
   "cell_type": "code",
   "execution_count": null,
   "metadata": {},
   "outputs": [],
   "source": [
    "# Step 3: Data Preprocessing\n",
    "# We will use 'Height', 'Weight', 'FeetSize' as features and 'Sex' as the target variable\n",
    "X = data[['Height', 'Weight', 'FeetSize']]\n",
    "y = data['Sex']"
   ]
  },
  {
   "cell_type": "code",
   "execution_count": null,
   "metadata": {},
   "outputs": [],
   "source": [
    "# Step 4: Data Division (80% training, 20% testing)\n",
    "X_train, X_test, y_train, y_test = train_test_split(X, y, test_size=0.2, random_state=42)"
   ]
  },
  {
   "cell_type": "code",
   "execution_count": null,
   "metadata": {},
   "outputs": [],
   "source": [
    "# Step 5: Decision Tree Model Training and Testing\n",
    "# Initialize and train the Decision Tree model\n",
    "decision_tree_model = DecisionTreeClassifier(random_state=42)\n",
    "decision_tree_model.fit(X_train, y_train)\n",
    "\n",
    "# Make predictions on the test set\n",
    "y_pred = decision_tree_model.predict(X_test)"
   ]
  },
  {
   "cell_type": "code",
   "execution_count": null,
   "metadata": {},
   "outputs": [],
   "source": [
    "# Step 6: Model Evaluation\n",
    "accuracy = accuracy_score(y_test, y_pred)\n",
    "classification_rep = classification_report(y_test, y_pred)\n",
    "\n",
    "print(f'Accuracy: {accuracy * 100:.2f}%')\n",
    "print('Classification Report:\\n', classification_rep)"
   ]
  }
 ],
 "metadata": {
  "kernelspec": {
   "display_name": "ai_lecture",
   "language": "python",
   "name": "python3"
  },
  "language_info": {
   "name": "python",
   "version": "3.11.9"
  }
 },
 "nbformat": 4,
 "nbformat_minor": 2
}
