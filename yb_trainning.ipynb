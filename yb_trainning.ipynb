{
 "cells": [
  {
   "cell_type": "code",
   "execution_count": null,
   "metadata": {},
   "outputs": [],
   "source": [
    "import numpy as np # 수학 연산 수행을 위한 모듈\n",
    "import pandas as pd # 데이터 처리를 위한 모듈\n",
    "import seaborn as sns # 데이터 시각화 모듈\n",
    "import matplotlib.pyplot as plt # 데이터 시각화 모듈"
   ]
  },
  {
   "cell_type": "markdown",
   "metadata": {},
   "source": [
    "1. 데이터 읽고 정보 확인하기"
   ]
  },
  {
   "cell_type": "code",
   "execution_count": null,
   "metadata": {},
   "outputs": [],
   "source": [
    "# CSV 파일 읽어오기\n",
    "data_frame = pd.read_csv(\"../input/male-female/male_female.csv\")\n",
    "\n",
    "data_frame.info()\n",
    "data_frame.head(5)\n",
    "\n",
    "for col in data_frame.columns: \n",
    "    print(col) "
   ]
  },
  {
   "cell_type": "markdown",
   "metadata": {},
   "source": [
    "2. 데이터 시각화 및 분석"
   ]
  },
  {
   "cell_type": "code",
   "execution_count": null,
   "metadata": {},
   "outputs": [],
   "source": [
    "data_frame.hist(edgecolor='black', linewidth=1.2)\n",
    "fig = plt.gcf()\n",
    "fig.set_size_inches(12,10)\n",
    "plt.show()"
   ]
  },
  {
   "cell_type": "code",
   "execution_count": null,
   "metadata": {},
   "outputs": [],
   "source": [
    "# 읽어온 데이터 표시하기\n",
    "cl = data_frame['Sex'].unique()\n",
    "\n",
    "col = ['orange', 'blue', 'red', 'yellow', 'black', 'brown']\n",
    "\n",
    "fig = data_frame[data_frame['Sex'] == cl[0]].plot(kind='scatter', x='FeetSize', y='Height', color=col[0], label=cl[0])\n",
    "\n",
    "for i in range(len(cl)-1):\n",
    "    data_frame[data_frame['Sex'] == cl[i+1]].plot(kind='scatter', x='FeetSize', y='Height', color=col[i+1], label=cl[i+1], ax=fig)\n",
    "\n",
    "fig.set_xlabel('FeetSize')\n",
    "fig.set_ylabel('Height')\n",
    "fig.set_title('FeetSize' + \" vs. \" + 'Height')\n",
    "fig=plt.gcf()\n",
    "fig.set_size_inches(10, 6)\n",
    "plt.show()"
   ]
  },
  {
   "cell_type": "code",
   "execution_count": null,
   "metadata": {},
   "outputs": [],
   "source": [
    "f, sub = plt.subplots(1, 1,figsize=(8,6))\n",
    "sns.boxplot(x=data_frame['Sex'],y=data_frame['FeetSize'], ax=sub)\n",
    "sub.set(xlabel='Sex', ylabel='FeetSize')"
   ]
  },
  {
   "cell_type": "code",
   "execution_count": null,
   "metadata": {},
   "outputs": [],
   "source": [
    "plt.figure(figsize=(8,6))\n",
    "plt.subplot(1,1,1)\n",
    "sns.violinplot(x='Sex',y='Height',data=data_frame)"
   ]
  },
  {
   "cell_type": "code",
   "execution_count": null,
   "metadata": {},
   "outputs": [],
   "source": [
    "from mpl_toolkits.mplot3d import Axes3D\n",
    "\n",
    "fig=plt.figure(figsize=(12,8))\n",
    "\n",
    "ax=fig.add_subplot(1,1,1, projection=\"3d\")\n",
    "ax.scatter(data_frame['Height'],data_frame['Weight'],data_frame['FeetSize'],c=\"blue\",alpha=.5)\n",
    "ax.set(xlabel='Height',ylabel='Weight',zlabel='FeetSize')"
   ]
  },
  {
   "cell_type": "markdown",
   "metadata": {},
   "source": [
    "3. 데이터 전처리"
   ]
  },
  {
   "cell_type": "markdown",
   "metadata": {},
   "source": [
    "4. 학습용, 테스트용으로 데이터 분할"
   ]
  },
  {
   "cell_type": "code",
   "execution_count": null,
   "metadata": {},
   "outputs": [],
   "source": [
    "plt.figure(figsize=(12,8)) \n",
    "sns.heatmap(data_frame.corr(),annot=True,cmap='cubehelix_r') \n",
    "plt.show()"
   ]
  },
  {
   "cell_type": "code",
   "execution_count": null,
   "metadata": {},
   "outputs": [],
   "source": [
    "from sklearn.model_selection import train_test_split\n",
    "\n",
    "train, test = train_test_split(data_frame, test_size = 0.2)\n",
    "\n",
    "# train=70% and test=30%\n",
    "print(train.shape)\n",
    "print(test.shape)\n",
    "\n",
    "# 학습용 문제, 학습용 정답\n",
    "train_X = train[['Height','FeetSize']] # 키와 발크기만 선택\n",
    "train_y = train.Sex # 정답 선택\n",
    "\n",
    "# 테스트용 문제, 테스트용 정답\n",
    "test_X = test[['Height','FeetSize']] # taking test data features\n",
    "test_y = test.Sex   #output value of test data"
   ]
  },
  {
   "cell_type": "markdown",
   "metadata": {},
   "source": [
    "5. 머신러닝 모델 학습과 테스트"
   ]
  },
  {
   "cell_type": "code",
   "execution_count": null,
   "metadata": {},
   "outputs": [],
   "source": [
    "# 다양한 분류 알고리즘 패키지를 임포트함.\n",
    "from sklearn.linear_model import LogisticRegression  # Logistic Regression 알고리즘\n",
    "#from sklearn.cross_validation import train_test_split # 데이타 쪼개주는 모듈 \n",
    "\n",
    "from sklearn.neighbors import KNeighborsClassifier  # for K nearest neighbours\n",
    "from sklearn import svm  #for Support Vector Machine (SVM) Algorithm\n",
    "from sklearn import metrics #for checking the model accuracy\n",
    "from sklearn.tree import DecisionTreeClassifier #for using Decision Tree Algoithm"
   ]
  },
  {
   "cell_type": "markdown",
   "metadata": {},
   "source": [
    "5.1 써포트 벡터 머신(SVM) 알고리즘 이용하여 알아맞추기"
   ]
  },
  {
   "cell_type": "code",
   "execution_count": null,
   "metadata": {},
   "outputs": [],
   "source": [
    "gildong = svm.SVC()\n",
    "gildong.fit(train_X,train_y) # 가르친 후\n",
    "prediction = gildong.predict(test_X) # 얼마나 맞히는지 테스트\n",
    "\n",
    "rate1 = metrics.accuracy_score(prediction,test_y) * 100\n",
    "print('인식률: {0:.1f}'.format(rate1))"
   ]
  },
  {
   "cell_type": "markdown",
   "metadata": {},
   "source": [
    "5.2 논리 회귀(Logistic Regression) 알고리즘 이용하여 알아맞추기"
   ]
  },
  {
   "cell_type": "code",
   "execution_count": null,
   "metadata": {},
   "outputs": [],
   "source": [
    "cheolsu = LogisticRegression()\n",
    "cheolsu.fit(train_X,train_y)\n",
    "prediction = cheolsu.predict(test_X)\n",
    "\n",
    "rate2 = metrics.accuracy_score(prediction,test_y) * 100\n",
    "print('인식률: {0:.1f}'.format(rate2))"
   ]
  },
  {
   "cell_type": "markdown",
   "metadata": {},
   "source": [
    "5.3 결정 트리(Decision Tree) 알고리즘 이용하여 알아맞추기"
   ]
  },
  {
   "cell_type": "code",
   "execution_count": null,
   "metadata": {},
   "outputs": [],
   "source": [
    "youngja = DecisionTreeClassifier()\n",
    "youngja.fit(train_X,train_y)\n",
    "prediction = youngja.predict(test_X)\n",
    "\n",
    "rate3 = metrics.accuracy_score(prediction,test_y) * 100\n",
    "print('인식률: {0:.1f}'.format(rate3))"
   ]
  },
  {
   "cell_type": "markdown",
   "metadata": {},
   "source": [
    "5.4 근접 이웃(K-Nearest Neighbours) 알고리즘 이용하여 알아맞추기"
   ]
  },
  {
   "cell_type": "code",
   "execution_count": null,
   "metadata": {},
   "outputs": [],
   "source": [
    "minsu = KNeighborsClassifier(n_neighbors=3) #this examines 3 neighbours for putting the new data into a class\n",
    "minsu.fit(train_X,train_y)\n",
    "prediction = minsu.predict(test_X)\n",
    "\n",
    "rate4 = metrics.accuracy_score(prediction,test_y) * 100\n",
    "print('인식률: {0:.1f}'.format(rate4))"
   ]
  },
  {
   "cell_type": "markdown",
   "metadata": {},
   "source": [
    "5.5 비교"
   ]
  },
  {
   "cell_type": "code",
   "execution_count": null,
   "metadata": {},
   "outputs": [],
   "source": [
    "plt.plot(['SVM','Logistic','D-Tree','K-NN'], [rate1, rate2, rate3, rate4])"
   ]
  },
  {
   "cell_type": "markdown",
   "metadata": {},
   "source": [
    "5.6 기타 특성(몸무게)를 추가 이용"
   ]
  },
  {
   "cell_type": "code",
   "execution_count": null,
   "metadata": {},
   "outputs": [],
   "source": [
    "train_X = train[['Height','FeetSize','Weight']] # 키와 발크기뿐만 아니라 몸무게도 추가\n",
    "train_y = train.Sex # 정답 선택\n",
    "\n",
    "test_X = test[['Height','FeetSize','Weight']] # taking test data features\n",
    "test_y = test.Sex   #output value of test data"
   ]
  },
  {
   "cell_type": "code",
   "execution_count": null,
   "metadata": {},
   "outputs": [],
   "source": [
    "def run_4_classifiers(a, b, c, d):\n",
    "    tmp = svm.SVC() # 애기 \n",
    "    tmp.fit(a,b) # 가르친 후\n",
    "    prediction = tmp.predict(c) # 테스트\n",
    "    rate1 = metrics.accuracy_score(prediction,test_y) * 100\n",
    "\n",
    "    tmp = LogisticRegression()\n",
    "    tmp.fit(a,b)\n",
    "    prediction = tmp.predict(c)\n",
    "    rate2 = metrics.accuracy_score(prediction,test_y) * 100\n",
    "\n",
    "    tmp = DecisionTreeClassifier()\n",
    "    tmp.fit(a,b)\n",
    "    prediction = tmp.predict(c)\n",
    "    rate3 = metrics.accuracy_score(prediction,test_y) * 100\n",
    "\n",
    "    tmp = KNeighborsClassifier(n_neighbors=3) #this examines 3 neighbours for putting the new data into a class\n",
    "    tmp.fit(a,b)\n",
    "    prediction = tmp.predict(c)\n",
    "    rate4 = metrics.accuracy_score(prediction,test_y) * 100\n",
    "    \n",
    "    plt.plot(['SVM','Logistic','D-Tree','K-NN'], [rate1, rate2, rate3, rate4])\n",
    "    print('인식률: {0:.2f}, {1:.2f}, {2:.2f}, {3:.2f}'.format(rate1, rate2, rate3, rate4))\n",
    "    \n",
    "    \n",
    "run_4_classifiers(train_X, train_y, test_X, test_y)"
   ]
  }
 ],
 "metadata": {
  "kernelspec": {
   "display_name": "ai_lecture",
   "language": "python",
   "name": "python3"
  },
  "language_info": {
   "name": "python",
   "version": "3.11.9"
  }
 },
 "nbformat": 4,
 "nbformat_minor": 2
}
