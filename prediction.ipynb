{
 "cells": [
  {
   "cell_type": "code",
   "execution_count": null,
   "metadata": {},
   "outputs": [],
   "source": [
    "# Import necessary libraries\n",
    "import pandas as pd\n",
    "import matplotlib.pyplot as plt\n",
    "import seaborn as sns\n",
    "from sklearn.model_selection import train_test_split\n",
    "from sklearn.tree import DecisionTreeClassifier\n",
    "from sklearn.metrics import accuracy_score, classification_report"
   ]
  },
  {
   "cell_type": "code",
   "execution_count": null,
   "metadata": {},
   "outputs": [],
   "source": [
    "# Step 1: Read Data\n",
    "file_path = 'plant_diary_new.csv'  # Adjust the path as necessary\n",
    "plant_data = pd.read_csv(file_path)\n",
    "\n",
    "# Check basic information about the data\n",
    "print(plant_data.info())\n",
    "print(plant_data.head())"
   ]
  },
  {
   "cell_type": "code",
   "execution_count": null,
   "metadata": {},
   "outputs": [],
   "source": [
    "# Step 2: Data Visualization\n",
    "# Visualize relationships using scatter plots for each feature vs. owner\n",
    "fig, axes = plt.subplots(1, 3, figsize=(15, 5))\n",
    "\n",
    "# Scatter plot for Height vs Owner\n",
    "sns.scatterplot(x='height', y='owner', data=plant_data, ax=axes[0], hue='owner', palette='Set1')\n",
    "axes[0].set_title('Height vs Owner')\n",
    "\n",
    "# Scatter plot for Leaf Width vs Owner\n",
    "sns.scatterplot(x='leaf_width', y='owner', data=plant_data, ax=axes[1], hue='owner', palette='Set1')\n",
    "axes[1].set_title('Leaf Width vs Owner')\n",
    "\n",
    "# Scatter plot for Leaf Length vs Owner\n",
    "sns.scatterplot(x='leaf_length', y='owner', data=plant_data, ax=axes[2], hue='owner', palette='Set1')\n",
    "axes[2].set_title('Leaf Length vs Owner')\n",
    "\n",
    "plt.tight_layout()\n",
    "plt.show()"
   ]
  },
  {
   "cell_type": "code",
   "execution_count": null,
   "metadata": {},
   "outputs": [],
   "source": [
    "# Step 3: Data Preprocessing\n",
    "# We will use 'height', 'leaf_width', and 'leaf_length' as features and 'owner' as the target variable\n",
    "X = plant_data[['height', 'leaf_width', 'leaf_length']]\n",
    "y = plant_data['owner']"
   ]
  },
  {
   "cell_type": "code",
   "execution_count": null,
   "metadata": {},
   "outputs": [],
   "source": [
    "# Step 4: Data Division (80% training, 20% testing)\n",
    "X_train, X_test, y_train, y_test = train_test_split(X, y, test_size=0.2, random_state=42)"
   ]
  },
  {
   "cell_type": "code",
   "execution_count": null,
   "metadata": {},
   "outputs": [],
   "source": [
    "# Step 5: Decision Tree Model Training and Testing\n",
    "# Initialize and train the Decision Tree model\n",
    "decision_tree_model = DecisionTreeClassifier(random_state=42)\n",
    "decision_tree_model.fit(X_train, y_train)\n",
    "\n",
    "# Make predictions on the test set\n",
    "y_pred = decision_tree_model.predict(X_test)"
   ]
  },
  {
   "cell_type": "code",
   "execution_count": null,
   "metadata": {},
   "outputs": [],
   "source": [
    "# Step 6: Model Evaluation\n",
    "accuracy = accuracy_score(y_test, y_pred)\n",
    "classification_rep = classification_report(y_test, y_pred)\n",
    "\n",
    "# Print the results\n",
    "print(f'Accuracy: {accuracy * 100:.2f}%')\n",
    "print('Classification Report:\\n', classification_rep)"
   ]
  }
 ],
 "metadata": {
  "kernelspec": {
   "display_name": "ai_lecture",
   "language": "python",
   "name": "python3"
  },
  "language_info": {
   "name": "python",
   "version": "3.11.9"
  }
 },
 "nbformat": 4,
 "nbformat_minor": 2
}
